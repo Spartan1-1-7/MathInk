{
 "cells": [
  {
   "cell_type": "code",
   "execution_count": 41,
   "metadata": {},
   "outputs": [],
   "source": [
    "import os\n",
    "import cv2\n",
    "import pandas as pd\n",
    "import numpy as np\n",
    "from tqdm import tqdm"
   ]
  },
  {
   "cell_type": "code",
   "execution_count": 42,
   "metadata": {},
   "outputs": [],
   "source": [
    "train_csv_path = '/media/arindam-shukla/Linux Storage/mathink/lm2LaTeX-100K/im2latex_train.csv'\n",
    "val_csv_path = '/media/arindam-shukla/Linux Storage/mathink/lm2LaTeX-100K/im2latex_validate.csv'\n",
    "test_csv_path = '/media/arindam-shukla/Linux Storage/mathink/lm2LaTeX-100K/im2latex_test.csv'\n",
    "# formulas_csv_path = '/media/arindam-shukla/Linux Storage/mathink/lm2LaTeX-100K/im2latex_formulas.norm.csv'\n",
    "images_dir = '/media/arindam-shukla/Linux Storage/mathink/lm2LaTeX-100K/processed_img'  # Folder with cleaned 192x192 grayscale images\n",
    "output_npy_path = \"/media/arindam-shukla/Linux Storage/mathink\"  # Will save here\n"
   ]
  },
  {
   "cell_type": "code",
   "execution_count": 43,
   "metadata": {},
   "outputs": [],
   "source": [
    "# === LOAD CSVs ===\n",
    "train_df = pd.read_csv(train_csv_path)\n",
    "val_df = pd.read_csv(val_csv_path)\n",
    "test_df = pd.read_csv(test_csv_path)"
   ]
  },
  {
   "cell_type": "code",
   "execution_count": 44,
   "metadata": {},
   "outputs": [],
   "source": [
    "# === ✅ Add 'split' column manually\n",
    "train_df['split'] = 'train'\n",
    "val_df['split'] = 'val'\n",
    "test_df['split'] = 'test'"
   ]
  },
  {
   "cell_type": "code",
   "execution_count": 45,
   "metadata": {},
   "outputs": [],
   "source": [
    "# Combine all\n",
    "all_data = pd.concat([train_df, val_df, test_df], ignore_index=True)"
   ]
  },
  {
   "cell_type": "code",
   "execution_count": 46,
   "metadata": {},
   "outputs": [],
   "source": [
    "# Rename 'formula' column to 'label'\n",
    "all_data.rename(columns={'formula': 'label'}, inplace=True)"
   ]
  },
  {
   "cell_type": "code",
   "execution_count": 47,
   "metadata": {},
   "outputs": [],
   "source": [
    "# === ✅ Prepare data containers ===\n",
    "image_matrices = []\n",
    "labels = []\n",
    "splits = []"
   ]
  },
  {
   "cell_type": "code",
   "execution_count": 48,
   "metadata": {},
   "outputs": [
    {
     "name": "stdout",
     "output_type": "stream",
     "text": [
      "Reading and storing images with labels and splits...\n"
     ]
    },
    {
     "name": "stderr",
     "output_type": "stream",
     "text": [
      "100%|██████████| 94000/94000 [00:27<00:00, 3378.81it/s]\n"
     ]
    }
   ],
   "source": [
    "print(\"Reading and storing images with labels and splits...\")\n",
    "\n",
    "for _, row in tqdm(all_data.iterrows(), total=len(all_data)):\n",
    "    filename = row['image']\n",
    "    label = row['label']\n",
    "    split = row['split']\n",
    "    \n",
    "    img_path = os.path.join(images_dir, filename)\n",
    "    img = cv2.imread(img_path, cv2.IMREAD_GRAYSCALE)\n",
    "    \n",
    "    if img is None:\n",
    "        print(f\"[!] Could not read {filename}. Skipping.\")\n",
    "        continue\n",
    "    \n",
    "    image_matrices.append(img)\n",
    "    labels.append(label)\n",
    "    splits.append(split)"
   ]
  },
  {
   "cell_type": "code",
   "execution_count": 49,
   "metadata": {},
   "outputs": [],
   "source": [
    "\n",
    "# === ✅ Convert to numpy arrays\n",
    "image_matrices = np.array(image_matrices)\n",
    "labels = np.array(labels)\n",
    "splits = np.array(splits)"
   ]
  },
  {
   "cell_type": "code",
   "execution_count": 50,
   "metadata": {},
   "outputs": [
    {
     "name": "stdout",
     "output_type": "stream",
     "text": [
      "\n",
      "✅ Combined dataset saved to: /media/arindam-shukla/Linux Storage/mathink\n",
      "Total images saved: 94000\n"
     ]
    }
   ],
   "source": [
    "# === ✅ Save all as single .npy file\n",
    "np.save(output_npy_path, {\n",
    "    'images': image_matrices,\n",
    "    'labels': labels,\n",
    "    'splits': splits\n",
    "})\n",
    "print(f\"\\n✅ Combined dataset saved to: {output_npy_path}\")\n",
    "print(f\"Total images saved: {len(image_matrices)}\")"
   ]
  }
 ],
 "metadata": {
  "kernelspec": {
   "display_name": "mathink",
   "language": "python",
   "name": "python3"
  },
  "language_info": {
   "codemirror_mode": {
    "name": "ipython",
    "version": 3
   },
   "file_extension": ".py",
   "mimetype": "text/x-python",
   "name": "python",
   "nbconvert_exporter": "python",
   "pygments_lexer": "ipython3",
   "version": "3.12.9"
  }
 },
 "nbformat": 4,
 "nbformat_minor": 2
}
