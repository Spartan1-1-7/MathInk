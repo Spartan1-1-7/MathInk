{
 "cells": [
  {
   "cell_type": "code",
   "execution_count": 40,
   "metadata": {},
   "outputs": [],
   "source": [
    "import os\n",
    "import cv2  # or use PIL if you prefer\n",
    "from tqdm import tqdm\n",
    "import numpy as np\n"
   ]
  },
  {
   "cell_type": "markdown",
   "metadata": {},
   "source": [
    "### Configration|"
   ]
  },
  {
   "cell_type": "code",
   "execution_count": null,
   "metadata": {},
   "outputs": [],
   "source": [
    "input_dir = '/media/arindam-shukla/Linux Storage/mathink/lm2LaTeX-100K/formula_images_processed'\n",
    "output_dir = '/media/arindam-shukla/Linux Storage/mathink/lm2LaTeX-100K/processed_img'\n",
    "os.makedirs(output_dir, exist_ok=True)\n"
   ]
  },
  {
   "cell_type": "code",
   "execution_count": 42,
   "metadata": {},
   "outputs": [
    {
     "name": "stdout",
     "output_type": "stream",
     "text": [
      "Total files found: 103536\n",
      "First 5 files: ['7ae1ba33b9.png', '2a5984cda9.png', '586da719db.png', '3111dc88fe.png', '3b8a16803b.png']\n"
     ]
    }
   ],
   "source": [
    "files = os.listdir(input_dir)\n",
    "print(\"Total files found:\", len(files))\n",
    "print(\"First 5 files:\", files[:5])"
   ]
  },
  {
   "cell_type": "code",
   "execution_count": 43,
   "metadata": {},
   "outputs": [],
   "source": [
    "# Desired image size\n",
    "target_size = 192\n"
   ]
  },
  {
   "cell_type": "code",
   "execution_count": 44,
   "metadata": {},
   "outputs": [],
   "source": [
    "def resize_and_pad(img, size=192):\n",
    "    h, w = img.shape[:2]\n",
    "    scale = min(size / w, size / h)\n",
    "    new_w, new_h = int(w * scale), int(h * scale)\n",
    "\n",
    "    resized = cv2.resize(img, (new_w, new_h), interpolation=cv2.INTER_AREA)\n",
    "    canvas = np.ones((size, size), dtype=np.uint8) * 255  # white background\n",
    "\n",
    "    # Compute offsets to center the image\n",
    "    x_offset = (size - new_w) // 2\n",
    "    y_offset = (size - new_h) // 2\n",
    "\n",
    "    canvas[y_offset:y_offset+new_h, x_offset:x_offset+new_w] = resized\n",
    "    return canvas\n"
   ]
  },
  {
   "cell_type": "code",
   "execution_count": 45,
   "metadata": {},
   "outputs": [
    {
     "name": "stdout",
     "output_type": "stream",
     "text": [
      "Processing images...\n"
     ]
    },
    {
     "name": "stderr",
     "output_type": "stream",
     "text": [
      "100%|██████████| 103536/103536 [00:51<00:00, 1997.90it/s]\n"
     ]
    }
   ],
   "source": [
    "print(\"Processing images...\")\n",
    "for filename in tqdm(os.listdir(input_dir)):\n",
    "    if filename.lower().endswith('.png'):\n",
    "        in_path = os.path.join(input_dir, filename)\n",
    "        out_path = os.path.join(output_dir, filename)\n",
    "\n",
    "        img = cv2.imread(in_path, cv2.IMREAD_GRAYSCALE)\n",
    "        if img is None:\n",
    "            print(f\"[!] Skipped {filename}: couldn't read.\")\n",
    "            continue\n",
    "\n",
    "        try:\n",
    "            final_img = resize_and_pad(img, target_size)\n",
    "            cv2.imwrite(out_path, final_img)\n",
    "        except Exception as e:\n",
    "            print(f\"[!] Error with {filename}: {e}\")"
   ]
  },
  {
   "cell_type": "code",
   "execution_count": 47,
   "metadata": {},
   "outputs": [],
   "source": [
    "matrix_dir = '/media/arindam-shukla/Linux Storage/mathink/lm2LaTeX-100K/processed_matrices'  # Directory for storing matrices\n",
    "os.makedirs(matrix_dir, exist_ok=True)"
   ]
  },
  {
   "cell_type": "code",
   "execution_count": 48,
   "metadata": {},
   "outputs": [
    {
     "name": "stdout",
     "output_type": "stream",
     "text": [
      "Converting processed images to matrices and saving as .npy files...\n"
     ]
    },
    {
     "name": "stderr",
     "output_type": "stream",
     "text": [
      "100%|██████████| 103536/103536 [00:36<00:00, 2818.60it/s]\n"
     ]
    }
   ],
   "source": [
    "print(\"Converting processed images to matrices and saving as .npy files...\")\n",
    "for filename in tqdm(os.listdir(output_dir)):\n",
    "    if filename.lower().endswith('.png'):\n",
    "        img_path = os.path.join(output_dir, filename)\n",
    "\n",
    "        img = cv2.imread(img_path, cv2.IMREAD_GRAYSCALE)\n",
    "        if img is None:\n",
    "            print(f\"[!] Skipped {filename}: couldn't read.\")\n",
    "            continue\n",
    "\n",
    "        try:\n",
    "            # Convert image to matrix (NumPy array) and save as .npy file\n",
    "            matrix_filename = filename.replace('.png', '.npy')\n",
    "            matrix_path = os.path.join(matrix_dir, matrix_filename)\n",
    "            np.save(matrix_path, img)\n",
    "\n",
    "        except Exception as e:\n",
    "            print(f\"[!] Error with {filename}: {e}\")"
   ]
  },
  {
   "cell_type": "code",
   "execution_count": 49,
   "metadata": {},
   "outputs": [
    {
     "name": "stdout",
     "output_type": "stream",
     "text": [
      "Creating a single .npy file for all images...\n"
     ]
    },
    {
     "name": "stderr",
     "output_type": "stream",
     "text": [
      "100%|██████████| 103536/103536 [00:20<00:00, 4978.13it/s]\n"
     ]
    },
    {
     "name": "stdout",
     "output_type": "stream",
     "text": [
      "All images saved as a single .npy file: ./all_images.npy\n"
     ]
    }
   ],
   "source": [
    "# New block to convert all processed images into a single .npy file\n",
    "\n",
    "image_matrices = []  # List to hold all processed images as matrices\n",
    "\n",
    "print(\"Creating a single .npy file for all images...\")\n",
    "for filename in tqdm(os.listdir(output_dir)):\n",
    "    if filename.lower().endswith('.png'):\n",
    "        img_path = os.path.join(output_dir, filename)\n",
    "\n",
    "        img = cv2.imread(img_path, cv2.IMREAD_GRAYSCALE)\n",
    "        if img is None:\n",
    "            print(f\"[!] Skipped {filename}: couldn't read.\")\n",
    "            continue\n",
    "\n",
    "        try:\n",
    "            # Add the image matrix to the list\n",
    "            image_matrices.append(img)\n",
    "\n",
    "        except Exception as e:\n",
    "            print(f\"[!] Error with {filename}: {e}\")\n",
    "\n",
    "# Convert the list of image matrices to a single NumPy array\n",
    "image_matrices_array = np.array(image_matrices)\n",
    "\n",
    "# Save the array to a single .npy file in the current directory\n",
    "single_npy_path = './all_images.npy'  # Output the .npy file in the current directory\n",
    "np.save(single_npy_path, image_matrices_array)\n",
    "\n",
    "print(f\"All images saved as a single .npy file: {single_npy_path}\")"
   ]
  }
 ],
 "metadata": {
  "kernelspec": {
   "display_name": "mathink",
   "language": "python",
   "name": "python3"
  },
  "language_info": {
   "codemirror_mode": {
    "name": "ipython",
    "version": 3
   },
   "file_extension": ".py",
   "mimetype": "text/x-python",
   "name": "python",
   "nbconvert_exporter": "python",
   "pygments_lexer": "ipython3",
   "version": "3.12.9"
  }
 },
 "nbformat": 4,
 "nbformat_minor": 2
}
